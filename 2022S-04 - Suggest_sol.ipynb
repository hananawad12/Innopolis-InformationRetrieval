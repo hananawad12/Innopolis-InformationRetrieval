{
 "cells": [
  {
   "cell_type": "markdown",
   "metadata": {},
   "source": [
    "# Sugges_\n",
    "\n",
    "One of the strategies to improve user experience is to provide user with hints, or, otherwise, to autocomplete his queries. Let's consider suggest.\n",
    "\n",
    "Today we will practice generating suggestions using [Trie](https://en.wikipedia.org/wiki/Trie) data structure (prefix tree), see the example below.\n",
    "\n",
    "Plan of your homework:\n",
    "\n",
    "1. Build Trie based on real search query data, provided by AOL company;\n",
    "2. Generate suggestion based on a trie;\n",
    "3. Measure suggestion speed;\n",
    "4. [M] Add spellcheck to suggest.\n",
    "\n",
    "\n",
    "![image](https://www.ritambhara.in/wp-content/uploads/2017/05/Screen-Shot-2017-05-01-at-4.01.38-PM.png)\n",
    "\n",
    "## 0. Install Trie data structure support\n",
    "\n",
    "You are free to use any library implementation of Trie, as well as the one we suggest (read the docs before asking any questions!): https://github.com/google/pygtrie"
   ]
  },
  {
   "cell_type": "code",
   "execution_count": 1,
   "metadata": {},
   "outputs": [],
   "source": [
    "#!pip install pygtrie"
   ]
  },
  {
   "cell_type": "markdown",
   "metadata": {},
   "source": [
    "### 0.1. Check it works and understand the example"
   ]
  },
  {
   "cell_type": "code",
   "execution_count": 2,
   "metadata": {},
   "outputs": [
    {
     "name": "stdout",
     "output_type": "stream",
     "text": [
      "CharTrie(this is 1: A, this is 2: B, that is 3: C)\n",
      "Node = False\n",
      "Subtree = True\n",
      "this is 1 ~ A\n",
      "this is 2 ~ B\n"
     ]
    }
   ],
   "source": [
    "import pygtrie\n",
    "t = pygtrie.CharTrie()\n",
    "\n",
    "# trie can be considered as a form of organizing a set of map\n",
    "t[\"this is 1\"] = \"A\"\n",
    "t[\"this is 2\"] = \"B\"\n",
    "t[\"that is 3\"] = \"C\"\n",
    "\n",
    "print(t)\n",
    "\n",
    "# \"this\" string is present in a set\n",
    "n = t.has_node('this') == pygtrie.Trie.HAS_VALUE\n",
    "# \"this\" prefix is present in a set\n",
    "s = t.has_node('this') == pygtrie.Trie.HAS_SUBTRIE\n",
    "\n",
    "print(f\"Node = {n}\\nSubtree = {s}\")\n",
    "\n",
    "# iterate a subtree\n",
    "for key, val in t.iteritems(\"this\"):\n",
    "    print(key, '~', val)"
   ]
  },
  {
   "cell_type": "markdown",
   "metadata": {},
   "source": [
    "## 1. Build a trie upon a dataset\n",
    "\n",
    "### 1.1. [5] Read the dataset\n",
    "\n",
    "Download the [dataset](https://github.com/IUCVLab/information-retrieval/tree/main/datasets/aol) (we provide only the first part of the original data for simplicity (~3.5 mln queries)).\n",
    "\n",
    "Explore the data, see readme file. Load the dataset. Pass the assert."
   ]
  },
  {
   "cell_type": "code",
   "execution_count": 3,
   "metadata": {},
   "outputs": [
    {
     "name": "stdout",
     "output_type": "stream",
     "text": [
      "dataset size: 3558411\n"
     ]
    }
   ],
   "source": [
    "import pandas as pd\n",
    "#TODO: Read the dataset, e.g. as pandas dataframe\n",
    "aol_data = pd.read_csv('./aol/user-ct-test-collection-01.txt.gz', sep='\\t')\n",
    "\n",
    "print(\"dataset size:\", aol_data.shape[0])\n",
    "assert aol_data.shape[0] == 3558411, \"Dataset size does not match\""
   ]
  },
  {
   "cell_type": "code",
   "execution_count": 4,
   "metadata": {},
   "outputs": [
    {
     "data": {
      "text/html": [
       "<div>\n",
       "<style scoped>\n",
       "    .dataframe tbody tr th:only-of-type {\n",
       "        vertical-align: middle;\n",
       "    }\n",
       "\n",
       "    .dataframe tbody tr th {\n",
       "        vertical-align: top;\n",
       "    }\n",
       "\n",
       "    .dataframe thead th {\n",
       "        text-align: right;\n",
       "    }\n",
       "</style>\n",
       "<table border=\"1\" class=\"dataframe\">\n",
       "  <thead>\n",
       "    <tr style=\"text-align: right;\">\n",
       "      <th></th>\n",
       "      <th>AnonID</th>\n",
       "      <th>Query</th>\n",
       "      <th>QueryTime</th>\n",
       "      <th>ItemRank</th>\n",
       "      <th>ClickURL</th>\n",
       "    </tr>\n",
       "  </thead>\n",
       "  <tbody>\n",
       "    <tr>\n",
       "      <th>0</th>\n",
       "      <td>142</td>\n",
       "      <td>rentdirect.com</td>\n",
       "      <td>2006-03-01 07:17:12</td>\n",
       "      <td>NaN</td>\n",
       "      <td>NaN</td>\n",
       "    </tr>\n",
       "    <tr>\n",
       "      <th>1</th>\n",
       "      <td>142</td>\n",
       "      <td>www.prescriptionfortime.com</td>\n",
       "      <td>2006-03-12 12:31:06</td>\n",
       "      <td>NaN</td>\n",
       "      <td>NaN</td>\n",
       "    </tr>\n",
       "    <tr>\n",
       "      <th>2</th>\n",
       "      <td>142</td>\n",
       "      <td>staple.com</td>\n",
       "      <td>2006-03-17 21:19:29</td>\n",
       "      <td>NaN</td>\n",
       "      <td>NaN</td>\n",
       "    </tr>\n",
       "    <tr>\n",
       "      <th>3</th>\n",
       "      <td>142</td>\n",
       "      <td>staple.com</td>\n",
       "      <td>2006-03-17 21:19:45</td>\n",
       "      <td>NaN</td>\n",
       "      <td>NaN</td>\n",
       "    </tr>\n",
       "    <tr>\n",
       "      <th>4</th>\n",
       "      <td>142</td>\n",
       "      <td>www.newyorklawyersite.com</td>\n",
       "      <td>2006-03-18 08:02:58</td>\n",
       "      <td>NaN</td>\n",
       "      <td>NaN</td>\n",
       "    </tr>\n",
       "  </tbody>\n",
       "</table>\n",
       "</div>"
      ],
      "text/plain": [
       "   AnonID                        Query            QueryTime  ItemRank ClickURL\n",
       "0     142               rentdirect.com  2006-03-01 07:17:12       NaN      NaN\n",
       "1     142  www.prescriptionfortime.com  2006-03-12 12:31:06       NaN      NaN\n",
       "2     142                   staple.com  2006-03-17 21:19:29       NaN      NaN\n",
       "3     142                   staple.com  2006-03-17 21:19:45       NaN      NaN\n",
       "4     142    www.newyorklawyersite.com  2006-03-18 08:02:58       NaN      NaN"
      ]
     },
     "execution_count": 4,
     "metadata": {},
     "output_type": "execute_result"
    }
   ],
   "source": [
    "aol_data.head()\n"
   ]
  },
  {
   "cell_type": "code",
   "execution_count": 5,
   "metadata": {},
   "outputs": [
    {
     "data": {
      "text/html": [
       "<div>\n",
       "<style scoped>\n",
       "    .dataframe tbody tr th:only-of-type {\n",
       "        vertical-align: middle;\n",
       "    }\n",
       "\n",
       "    .dataframe tbody tr th {\n",
       "        vertical-align: top;\n",
       "    }\n",
       "\n",
       "    .dataframe thead th {\n",
       "        text-align: right;\n",
       "    }\n",
       "</style>\n",
       "<table border=\"1\" class=\"dataframe\">\n",
       "  <thead>\n",
       "    <tr style=\"text-align: right;\">\n",
       "      <th></th>\n",
       "      <th>AnonID</th>\n",
       "      <th>Query</th>\n",
       "      <th>QueryTime</th>\n",
       "      <th>ItemRank</th>\n",
       "      <th>ClickURL</th>\n",
       "    </tr>\n",
       "  </thead>\n",
       "  <tbody>\n",
       "    <tr>\n",
       "      <th>3558406</th>\n",
       "      <td>24968114</td>\n",
       "      <td>-</td>\n",
       "      <td>2006-05-31 01:04:20</td>\n",
       "      <td>NaN</td>\n",
       "      <td>NaN</td>\n",
       "    </tr>\n",
       "    <tr>\n",
       "      <th>3558407</th>\n",
       "      <td>24969251</td>\n",
       "      <td>sp.trafficmarketplace.com</td>\n",
       "      <td>2006-05-31 15:51:23</td>\n",
       "      <td>NaN</td>\n",
       "      <td>NaN</td>\n",
       "    </tr>\n",
       "    <tr>\n",
       "      <th>3558408</th>\n",
       "      <td>24969374</td>\n",
       "      <td>orioles tickets</td>\n",
       "      <td>2006-05-31 12:24:51</td>\n",
       "      <td>NaN</td>\n",
       "      <td>NaN</td>\n",
       "    </tr>\n",
       "    <tr>\n",
       "      <th>3558409</th>\n",
       "      <td>24969374</td>\n",
       "      <td>orioles tickets</td>\n",
       "      <td>2006-05-31 12:31:57</td>\n",
       "      <td>2.0</td>\n",
       "      <td>http://www.greatseats.com</td>\n",
       "    </tr>\n",
       "    <tr>\n",
       "      <th>3558410</th>\n",
       "      <td>24969374</td>\n",
       "      <td>baltimore marinas</td>\n",
       "      <td>2006-05-31 12:43:40</td>\n",
       "      <td>NaN</td>\n",
       "      <td>NaN</td>\n",
       "    </tr>\n",
       "  </tbody>\n",
       "</table>\n",
       "</div>"
      ],
      "text/plain": [
       "           AnonID                      Query            QueryTime  ItemRank  \\\n",
       "3558406  24968114                          -  2006-05-31 01:04:20       NaN   \n",
       "3558407  24969251  sp.trafficmarketplace.com  2006-05-31 15:51:23       NaN   \n",
       "3558408  24969374            orioles tickets  2006-05-31 12:24:51       NaN   \n",
       "3558409  24969374            orioles tickets  2006-05-31 12:31:57       2.0   \n",
       "3558410  24969374          baltimore marinas  2006-05-31 12:43:40       NaN   \n",
       "\n",
       "                          ClickURL  \n",
       "3558406                        NaN  \n",
       "3558407                        NaN  \n",
       "3558408                        NaN  \n",
       "3558409  http://www.greatseats.com  \n",
       "3558410                        NaN  "
      ]
     },
     "execution_count": 5,
     "metadata": {},
     "output_type": "execute_result"
    }
   ],
   "source": [
    "aol_data.tail()\n"
   ]
  },
  {
   "cell_type": "markdown",
   "metadata": {},
   "source": [
    "### 1.2. [10] Build a Trie\n",
    "\n",
    "We want a suggest function to be **non-sensitive to stop words** because we don't want to upset the users if they confuses/omits prepositions. Consider *\"public events in Innopolis\"* vs *\"public events at Innopolis\"* or *\"public events Innopolis\"* - they all mean the same.\n",
    "\n",
    "Build a Trie based on the dataset, **storing query statistics such as query _frequency_, urls and ranks in the nodes**. Some queries may have no associated urls, others may have multiple ranked urls. Think of the way to store this information.\n",
    "\n",
    "Pass the asserts."
   ]
  },
  {
   "cell_type": "code",
   "execution_count": 6,
   "metadata": {
    "scrolled": true
   },
   "outputs": [],
   "source": [
    "from nltk.tokenize import word_tokenize \n",
    "from nltk.corpus import stopwords\n",
    "stop_words = set(stopwords.words('english'))\n",
    "\n",
    "def skip_stop_word(key):\n",
    "    tokens=word_tokenize(key.lower())\n",
    "    return \" \".join([x for x in tokens if x not in stop_words])\n",
    "\n",
    "aol_trie = pygtrie.CharTrie()\n",
    "\n",
    "#TODO: build a trie based on the dataset\n",
    "\n",
    "for index, row in aol_data.iterrows():\n",
    "    query, rank, url=row['Query'], row['ItemRank'], row['ClickURL']\n",
    "    #print(query)\n",
    "    if pd.isna(query):\n",
    "        continue\n",
    "    clean_query=skip_stop_word(query)\n",
    "    if clean_query not in aol_trie:\n",
    "        aol_trie[clean_query]={}\n",
    "        \n",
    "    if query not in aol_trie[clean_query]:\n",
    "        aol_trie[clean_query][query]=[1,{}]\n",
    "    else:\n",
    "        aol_trie[clean_query][query][0]+=1\n",
    "        \n",
    "    if not pd.isna(url) and not pd.isna(rank):\n",
    "        aol_trie[clean_query][query][1][rank]=url \n"
   ]
  },
  {
   "cell_type": "code",
   "execution_count": 7,
   "metadata": {},
   "outputs": [
    {
     "name": "stdout",
     "output_type": "stream",
     "text": [
      "sample question surveys ~ {'sample question surveys': [5, {7.0: 'http://www.surveyconnect.com', 4.0: 'http://www.custominsight.com', 10.0: 'http://www.askemployees.com', 1.0: 'http://www.lg-employers.gov.uk'}]}\n",
      "sample questions immigration interview ~ {'sample questions for immigration interview': [1, {}]}\n",
      "sample questions interview ~ {'sample questions for interview': [1, {1.0: 'http://www.quintcareers.com'}]}\n",
      "sample questions family interview ~ {'sample questions for family interview': [3, {2.0: 'http://www.grandparents-day.com', 5.0: 'http://www.quintcareers.com', 3.0: 'http://jobsearchtech.about.com'}]}\n",
      "sample questions sociology race ethnicity ~ {'sample questions sociology race and ethnicity': [1, {}]}\n",
      "sample questions biology ~ {'sample questions biology': [2, {3.0: 'http://www.utexas.edu', 6.0: 'http://www.troy.k12.ny.us'}]}\n",
      "sample questions us citizenship test ~ {'sample questions for us citizenship test': [1, {1.0: 'http://uscis.gov'}]}\n",
      "sample questionarie teaching evaluation ~ {'sample questionarie teaching evaluation': [1, {}]}\n",
      "sample questionnaire teaching evaluation ~ {'sample questionnaire teaching evaluation': [5, {1.0: 'http://www.surveyconsole.com', 2.0: 'http://www.usask.ca', 6.0: 'http://teaching.berkeley.edu', 9.0: 'http://www.flinders.edu.au', 10.0: 'http://oregonstate.edu'}]}\n",
      "sample questionnaire clinical research coordinators certification ~ {'sample questionnaire for clinical research coordinators certification': [1, {9.0: 'http://www.pharmatech.com'}]}\n"
     ]
    }
   ],
   "source": [
    "# test trie\n",
    "bag = []\n",
    "for key, val in aol_trie.iteritems(\"sample q\"):\n",
    "    print(key, '~', val)\n",
    "    \n",
    "    #NB: here we assume you store urls in a property of list type. But you can do something different. \n",
    "    for k,v in val.items():\n",
    "        for kk,vv in v[1].items():\n",
    "            bag.append(vv)\n",
    "        \n",
    "    #bag += val.urls\n",
    "    \n",
    "    assert \"sample question\" in key, \"All examples have `sample question` substring\"\n",
    "    assert key[:len(\"sample question\")] == \"sample question\", \"All examples have `sample question` starting string\"\n",
    "\n",
    "for url in [\"http://www.surveyconnect.com\", \"http://www.custominsight.com\", \n",
    "            \"http://jobsearchtech.about.com\", \"http://www.troy.k12.ny.us\",\n",
    "            \"http://www.flinders.edu.au\", \"http://uscis.gov\"]:\n",
    "    assert url in bag, \"This url should be in a try\""
   ]
  },
  {
   "cell_type": "markdown",
   "metadata": {},
   "source": [
    "## 2. [15] Write a suggest function which is non-sensitive to stop words\n",
    "\n",
    "Suggest options for user query based on Trie you just built.\n",
    "Output results sorted by frequency, print query count for each suggestion. If there is an url available, print the url too. If multiple url-s are available, print the one with the highest rank (the less the better).\n",
    "\n",
    "Pass the asserts.\n",
    "\n",
    "Question for analysis: What is the empirical threshold for minimal prefix for suggest?"
   ]
  },
  {
   "cell_type": "code",
   "execution_count": 8,
   "metadata": {},
   "outputs": [],
   "source": [
    "stops = set('a on at of to is from for and with using the in &'.split())"
   ]
  },
  {
   "cell_type": "code",
   "execution_count": 9,
   "metadata": {},
   "outputs": [
    {
     "name": "stdout",
     "output_type": "stream",
     "text": [
      "Query: trie\n",
      "Results:\n",
      "Count 5:     tried and true tattoo        http://www.tattoonow.com\n",
      "Count 3:     triest         \n",
      "Count 3:     triethanalomine        http://www.amazon.com\n",
      "Count 2:     tried and failed         \n",
      "Count 2:     when you tried and failed         \n",
      "----------------------------------------------------------\n",
      "['tried and true tattoo', 'triest', 'triethanalomine', 'tried and failed', 'when you tried and failed']\n",
      "Count 2:     boys and girls club of conyers georgia        http://www.bgcma.org\n",
      "----------------------------------------------------------\n"
     ]
    }
   ],
   "source": [
    "from gensim.parsing.preprocessing import remove_stopwords\n",
    "\n",
    "def complete_user_query(query: str, trie, top_k=5) -> list:\n",
    "    #TODO: suggest top_k options for a user query\n",
    "    # sort results by frequency (!!), \n",
    "    # suggest the QUERIES for first k ranked urls if available\n",
    "    result=[]\n",
    "    res_queries=[]\n",
    "    query = query.lower()\n",
    "    query = remove_stopwords(query)\n",
    "    try:\n",
    "        for k, v in trie.iteritems(query):\n",
    "            for kk in v:\n",
    "                lst=v[kk]\n",
    "                lst.append(kk)\n",
    "                #print(lst)\n",
    "                result.append(lst)\n",
    "            \n",
    "    except KeyError:\n",
    "        print('No suggest for the query')\n",
    "    \n",
    "    result = sorted(result, key=lambda s:s[0], reverse=True)[:top_k]\n",
    "    for r in result:\n",
    "        frequency=r[0]\n",
    "        q=r[2]\n",
    "        if len(r[1])==0:\n",
    "            url=\" \"\n",
    "        else:\n",
    "            #print('r1: ',r[1])\n",
    "            urls = sorted(r[1].items(),reverse=True)\n",
    "            #print('urls: ',urls)\n",
    "            url=urls[0][1]\n",
    "        print(f'Count {frequency}:     {q}        {url}')\n",
    "        res_queries.append(q)\n",
    "    print('----------------------------------------------------------')\n",
    "    return res_queries\n",
    "    \n",
    "\n",
    "        \n",
    "inp = \"trie\"\n",
    "print(\"Query:\", inp)\n",
    "print(\"Results:\")\n",
    "res = complete_user_query(inp, aol_trie)\n",
    "print(res)\n",
    "\n",
    "#NB we assume you return suggested query string only\n",
    "assert res[0] == \"tried and true tattoo\"\n",
    "assert res[1] == \"triest\" or res[1] == \"triethanalomine\"\n",
    "\n",
    "assert \"boys and girls club of conyers georgia\" \\\n",
    "            in complete_user_query(\"boys girls club conyers\", aol_trie, 10), \"Should be here\""
   ]
  },
  {
   "cell_type": "markdown",
   "metadata": {},
   "source": [
    "## 3. Measure suggest speed ##\n",
    "\n",
    "### 3.1. [10] Full Trie test\n",
    "\n",
    "Check how fast your search is working. Consider changing your code if it takes too long on average.\n",
    "\n",
    "Sucess criterion:\n",
    "- there is an average and variance for **multiple runs** of the given bucket.\n",
    "- there is an average and variance for **multiple runs** of naive search in unindexed dataset."
   ]
  },
  {
   "cell_type": "code",
   "execution_count": 10,
   "metadata": {},
   "outputs": [
    {
     "name": "stdout",
     "output_type": "stream",
     "text": [
      "Query: inf\n",
      "Results:\n",
      "Count 94:     information clearing house        http://www.informationclearinghouse.info\n",
      "Count 72:     information on training puppy        http://www.dogbreedinfo.com\n",
      "Count 59:     inflatable slides         \n",
      "Count 46:     infopass        http://uscis.gov\n",
      "Count 40:     infolanka        http://www.infolanka.net\n",
      "----------------------------------------------------------\n",
      "Query: the best \n",
      "Results:\n",
      "Count 685:     best buy        http://www.downloadsplaza.com\n",
      "Count 257:     bestcounter.biz         \n",
      "Count 224:     bestbuy        http://careers.bestbuy.com\n",
      "Count 158:     bestbuy.com        http://blogs.zdnet.com\n",
      "Count 99:     best western        http://www.bestwestern.co.uk\n",
      "----------------------------------------------------------\n",
      "Query: information retrieval\n",
      "Results:\n",
      "No suggest for the query\n",
      "----------------------------------------------------------\n",
      "Query: sherlock hol\n",
      "Results:\n",
      "Count 4:     sherlock holmes        http://en.wikipedia.org\n",
      "Count 2:     sherlock holmes society        http://www.sherlockian.net\n",
      "Count 2:     sherlock holmes chronological order        http://www.geocities.com\n",
      "Count 1:     sherlock holmes address         \n",
      "Count 1:     sherlock holmes audiotapes         \n",
      "----------------------------------------------------------\n",
      "Query: carnegie mell\n",
      "Results:\n",
      "Count 6:     carnegie mellon        http://www.cmu.edu\n",
      "Count 1:     carnegie mellon university        http://www.cmu.edu\n",
      "----------------------------------------------------------\n",
      "Query: babies r\n",
      "Results:\n",
      "Count 308:     babies r us        http://www.couponcabin.com\n",
      "Count 15:     babies r us.com        http://www.state.nj.us\n",
      "Count 6:     babies r' us        http://www.babiesrus.com\n",
      "Count 5:     babies r us birmingham al registry        http://www.amazon.com\n",
      "Count 4:     babies r us regestry         \n",
      "----------------------------------------------------------\n",
      "Query: new york\n",
      "Results:\n",
      "Count 425:     new york times        http://www.times.com\n",
      "Count 192:     new york lottery        http://www.csgnetwork.com\n",
      "Count 122:     new york alarm installer jobs        http://careers.beyond.com\n",
      "Count 118:     new york university        http://www.suny.edu\n",
      "Count 96:     new york city        http://www.nytimes.com\n",
      "----------------------------------------------------------\n",
      "Query: googol\n",
      "Results:\n",
      "Count 9:     googole        http://www.googole.com\n",
      "Count 8:     googol        http://en.wikipedia.org\n",
      "Count 6:     googol . com.        http://www-users.cs.york.ac.uk\n",
      "Count 1:     googolle         \n",
      "Count 1:     googol.cokm         \n",
      "----------------------------------------------------------\n",
      "Query: inter\n",
      "Results:\n",
      "Count 4207:     internet        http://www.lawguru.com\n",
      "Count 216:     internal revenue service        http://dir.yahoo.com\n",
      "Count 189:     internet explorer        http://download.microsoft.com\n",
      "Count 66:     international male.com         \n",
      "Count 42:     international bar association        http://www.thelawyer.com\n",
      "----------------------------------------------------------\n",
      "Query: USA sta\n",
      "Results:\n",
      "Count 1:     usa state map         \n",
      "----------------------------------------------------------\n",
      "Query: Barbara \n",
      "Results:\n",
      "Count 23:     barbara ann priddy teacher oklahoma city oklahoma         \n",
      "Count 21:     barbara eden        http://www.glencharlow.com\n",
      "Count 14:     barbara a priddy oklahoma city oklahoma        http://www.oklahomahistory.net\n",
      "Count 14:     barbara franzoso        http://www.nh.com\n",
      "Count 13:     barbara ann priddy psychiatric history         \n",
      "----------------------------------------------------------\n",
      "avg execution time in 0.024040373888882725 msec\n"
     ]
    }
   ],
   "source": [
    "inp_queries = [\"inf\", \"the best \", \"information retrieval\", \"sherlock hol\", \"carnegie mell\", \n",
    "               \"babies r\", \"new york\", \"googol\", \"inter\", \"USA sta\", \"Barbara \"]\n",
    "\n",
    "#TODO: measure avg execution time (in milliseconds) per query and print it out\n",
    "import time\n",
    "import numpy as np\n",
    "duration = []\n",
    "for inp in inp_queries:\n",
    "    start = time.time()\n",
    "    print(\"Query:\", inp)\n",
    "    print(\"Results:\")\n",
    "    complete_user_query(inp, aol_trie)\n",
    "    end = time.time()\n",
    "    duration.append(end-start)\n",
    "print(f'avg execution time in {np.mean(duration)} msec')"
   ]
  },
  {
   "cell_type": "markdown",
   "metadata": {},
   "source": [
    "### 3.2. [M][10] Assess how dataset size affect search time\n",
    "\n",
    "Study the speed of the trie data structure in $\\frac{1}{10}, \\frac{1}{4}, \\frac{1}{2}$, and full dataset. \n",
    "- Sample the data at random.\n",
    "- Plot the graph which shows how search time changes with dataset size.\n",
    "- Compare aganist bruteforce."
   ]
  },
  {
   "cell_type": "code",
   "execution_count": 11,
   "metadata": {},
   "outputs": [],
   "source": [
    "def build_trie(aol_data,size):\n",
    "    aol_trie = pygtrie.CharTrie()\n",
    "    for index, row in aol_data.iterrows():\n",
    "        if index==size:\n",
    "            print(index)\n",
    "            break\n",
    "        query, rank, url=row['Query'], row['ItemRank'], row['ClickURL']\n",
    "        if pd.isna(query):\n",
    "            continue\n",
    "        clean_query=skip_stop_word(query)\n",
    "        if clean_query not in aol_trie:\n",
    "            aol_trie[clean_query]={}\n",
    "\n",
    "        if query not in aol_trie[clean_query]:\n",
    "            aol_trie[clean_query][query]=[1,{}]\n",
    "        else:\n",
    "            aol_trie[clean_query][query][0]+=1\n",
    "\n",
    "        if not pd.isna(url) and not pd.isna(rank):\n",
    "            aol_trie[clean_query][query][1][rank]=url \n",
    "    return aol_trie"
   ]
  },
  {
   "cell_type": "code",
   "execution_count": 12,
   "metadata": {},
   "outputs": [],
   "source": [
    "def compute_executed_time(trie,inp):\n",
    "    duration = []\n",
    "    print(\"Query:\", inp)\n",
    "    print(\"Results:\")\n",
    "    complete_user_query(inp, trie)\n",
    "    end = time.time()\n",
    "    duration.append(end-start)\n",
    "\n",
    "    print(f'avg execution time in {np.mean(duration)} msec')\n",
    "    return np.mean(duration)"
   ]
  },
  {
   "cell_type": "code",
   "execution_count": 13,
   "metadata": {},
   "outputs": [
    {
     "name": "stdout",
     "output_type": "stream",
     "text": [
      "355841\n",
      "889602\n",
      "1779205\n",
      "Query: trie\n",
      "Results:\n",
      "Count 1:     tried and truechildren's consignment sale         \n",
      "----------------------------------------------------------\n",
      "avg execution time in 2558.7274284362793 msec\n",
      "Query: trie\n",
      "Results:\n",
      "Count 5:     tried and true tattoo        http://www.tattoonow.com\n",
      "Count 3:     triest         \n",
      "Count 1:     tried and truechildren's consignment sale         \n",
      "Count 1:     i tried out the cycling class and the bike seat hurt my private area        http://www.bycycleinc.com\n",
      "Count 1:     i tried to be perfect but nothing was worth it lyrics         \n",
      "----------------------------------------------------------\n",
      "avg execution time in 2558.730514526367 msec\n",
      "Query: trie\n",
      "Results:\n",
      "Count 5:     tried and true tattoo        http://www.tattoonow.com\n",
      "Count 3:     triest         \n",
      "Count 1:     tried and truechildren's consignment sale         \n",
      "Count 1:     i tried out the cycling class and the bike seat hurt my private area        http://www.bycycleinc.com\n",
      "Count 1:     i tried to be perfect but nothing was worth it lyrics         \n",
      "----------------------------------------------------------\n",
      "avg execution time in 2558.7315142154694 msec\n",
      "Query: trie\n",
      "Results:\n",
      "Count 5:     tried and true tattoo        http://www.tattoonow.com\n",
      "Count 3:     triest         \n",
      "Count 3:     triethanalomine        http://www.amazon.com\n",
      "Count 2:     tried and failed         \n",
      "Count 2:     when you tried and failed         \n",
      "----------------------------------------------------------\n",
      "avg execution time in 2558.7355148792267 msec\n"
     ]
    }
   ],
   "source": [
    "size1=int(aol_data.shape[0]*(1/10))\n",
    "size2=int(aol_data.shape[0]*(1/4))\n",
    "size3=int(aol_data.shape[0]*(1/2))\n",
    "size4=int(aol_data.shape[0])\n",
    "\n",
    "trie1=build_trie(aol_data,size1)\n",
    "trie2=build_trie(aol_data,size2)\n",
    "trie3=build_trie(aol_data,size3)\n",
    "trie4=build_trie(aol_data,size4)\n",
    "\n",
    "inp = \"trie\"\n",
    "Avg_time1= compute_executed_time(trie1,inp)\n",
    "Avg_time2= compute_executed_time(trie2,inp)\n",
    "Avg_time3= compute_executed_time(trie3,inp)\n",
    "Avg_time4= compute_executed_time(trie4,inp)"
   ]
  },
  {
   "cell_type": "code",
   "execution_count": 14,
   "metadata": {},
   "outputs": [
    {
     "data": {
      "image/png": "[encoded data removed]",
      "text/plain": [
       "<Figure size 1440x720 with 1 Axes>"
      ]
     },
     "metadata": {
      "needs_background": "light"
     },
     "output_type": "display_data"
    }
   ],
   "source": [
    "import matplotlib.pyplot as plt\n",
    "\n",
    "### YOUR CODE HERE\n",
    "x=[size1,size2,size3,size4]\n",
    "y=[Avg_time1, Avg_time2, Avg_time3, Avg_time4]\n",
    "plt.figure(figsize=(20,10))\n",
    "plt.scatter(size1,Avg_time1,label='1/10 datasize',color='orange',s=100)\n",
    "plt.scatter(size2,Avg_time2,label='1/4 datasize',color='blue',s=250)\n",
    "plt.scatter(size3,Avg_time3,label='1/2 datasize',color='green',s=500)\n",
    "plt.scatter(size4,Avg_time4,label='full datasize',color='red',s=1000)\n",
    "plt.plot(x,y)\n",
    "plt.xlabel('Dataset size',fontsize=25)\n",
    "plt.ylabel('Avg Execution time in msec',fontsize=25)\n",
    "plt.legend()\n",
    "plt.show()\n"
   ]
  },
  {
   "cell_type": "code",
   "execution_count": 43,
   "metadata": {},
   "outputs": [
    {
     "data": {
      "image/png": "[encoded data removed]",
      "text/plain": [
       "<Figure size 1440x720 with 1 Axes>"
      ]
     },
     "metadata": {
      "needs_background": "light"
     },
     "output_type": "display_data"
    }
   ],
   "source": [
    "\n",
    "\n",
    "### YOUR CODE HERE\n",
    "x=[size1,size2,size3,size4]\n",
    "y=[Avg_time1, Avg_time2, Avg_time3, Avg_time4]\n",
    "plt.figure(figsize=(20,10))\n",
    "\n",
    "plt.plot(x,y)\n",
    "plt.xlabel('Dataset size',fontsize=25)\n",
    "plt.ylabel('Avg Execution time in msec',fontsize=25)\n",
    "\n",
    "plt.show()\n"
   ]
  },
  {
   "cell_type": "markdown",
   "metadata": {},
   "source": [
    "## 4. [10] Add spellchecking to your suggest\n",
    "\n",
    "Try to make your search results as close as possible. Compare top-5 results of each query with top-5 results for corrected.\n",
    "\n",
    "You can use use [pyspellchecker](https://pypi.org/project/pyspellchecker/) `candidates()` call, or use any other spellchecker implementation."
   ]
  },
  {
   "cell_type": "code",
   "execution_count": 15,
   "metadata": {},
   "outputs": [],
   "source": [
    "#! pip install pyspellchecker\n"
   ]
  },
  {
   "cell_type": "code",
   "execution_count": 16,
   "metadata": {},
   "outputs": [],
   "source": [
    "from spellchecker import SpellChecker\n"
   ]
  },
  {
   "cell_type": "code",
   "execution_count": 17,
   "metadata": {},
   "outputs": [
    {
     "name": "stdout",
     "output_type": "stream",
     "text": [
      "{'information'}\n",
      "{'carnegie', 'carnage'}\n"
     ]
    }
   ],
   "source": [
    "spell = SpellChecker()\n",
    "print(spell.candidates(\"inormation\") ) \n",
    "print(spell.candidates(\"carnagie\") )"
   ]
  },
  {
   "cell_type": "code",
   "execution_count": 18,
   "metadata": {},
   "outputs": [],
   "source": [
    "#!pip install pyenchant"
   ]
  },
  {
   "cell_type": "code",
   "execution_count": 19,
   "metadata": {},
   "outputs": [],
   "source": [
    "from nltk.metrics import edit_distance\n",
    "import enchant\n",
    "class SpellingReplacer:\n",
    "    def __init__(self, dict_name='en_GB', max_dist=2):\n",
    "        self.spell_dict = enchant.Dict(dict_name)\n",
    "        self.max_dist = 2\n",
    "\n",
    "    def replace(self, word):\n",
    "        if self.spell_dict.check(word):\n",
    "            return word\n",
    "        suggestions = self.spell_dict.suggest(word)\n",
    "\n",
    "        if suggestions and edit_distance(word, suggestions[0]) <= self.max_dist:\n",
    "            return suggestions[0]\n",
    "        else:\n",
    "            return word"
   ]
  },
  {
   "cell_type": "code",
   "execution_count": 20,
   "metadata": {},
   "outputs": [],
   "source": [
    "def spell_check(word):\n",
    "    replacer = SpellingReplacer()\n",
    "    r = replacer.replace(word)\n",
    "    return r"
   ]
  },
  {
   "cell_type": "code",
   "execution_count": 21,
   "metadata": {},
   "outputs": [
    {
     "data": {
      "text/plain": [
       "'information'"
      ]
     },
     "execution_count": 21,
     "metadata": {},
     "output_type": "execute_result"
    }
   ],
   "source": [
    "spell_check('inormation')"
   ]
  },
  {
   "cell_type": "code",
   "execution_count": 22,
   "metadata": {},
   "outputs": [],
   "source": [
    "#!pip install textblob\n"
   ]
  },
  {
   "cell_type": "code",
   "execution_count": 23,
   "metadata": {},
   "outputs": [
    {
     "name": "stdout",
     "output_type": "stream",
     "text": [
      "information retrieved\n",
      "sherlock how\n",
      "carnegie well\n",
      "basis r\n",
      "Barbara\n"
     ]
    }
   ],
   "source": [
    "from textblob import TextBlob\n",
    "print(TextBlob(\"inormation retrieval\").correct())\n",
    "print(TextBlob(\"shelrock hol\").correct())\n",
    "print(TextBlob(\"carnagie mell\").correct())\n",
    "print(TextBlob(\"babis r\").correct())\n",
    "print(TextBlob(\"Barrbara\").correct())\n"
   ]
  },
  {
   "cell_type": "code",
   "execution_count": 24,
   "metadata": {},
   "outputs": [],
   "source": [
    "#! pip install autocorrect"
   ]
  },
  {
   "cell_type": "code",
   "execution_count": 25,
   "metadata": {},
   "outputs": [],
   "source": [
    "from autocorrect import Speller\n"
   ]
  },
  {
   "cell_type": "code",
   "execution_count": 26,
   "metadata": {},
   "outputs": [
    {
     "name": "stdout",
     "output_type": "stream",
     "text": [
      "information retrieval\n",
      "sherlock hol\n",
      "carnegie well\n",
      "basis r\n",
      "Barbara\n"
     ]
    }
   ],
   "source": [
    "spell = Speller(lang='en')\n",
    "print(spell(\"inormation retrieval\"))\n",
    "print(spell(\"shelrock hol\"))\n",
    "print(spell(\"carnagie mell\"))\n",
    "print(spell(\"babis r\"))\n",
    "print(spell(\"Barrbara\"))\n"
   ]
  },
  {
   "cell_type": "code",
   "execution_count": 27,
   "metadata": {},
   "outputs": [],
   "source": [
    "\n",
    "def find_suggestions(trie,query,top_k=5):\n",
    "    result=[]\n",
    "    try:\n",
    "        for k, v in trie.iteritems(query):\n",
    "            for kk in v:\n",
    "                lst=v[kk]\n",
    "                lst.append(kk)\n",
    "                result.append(lst)\n",
    "    except KeyError:\n",
    "        pass\n",
    "    if len(result)!=0:\n",
    "        result = sorted(result, key=lambda s:s[0], reverse=True)[:top_k]\n",
    "    return result"
   ]
  },
  {
   "cell_type": "code",
   "execution_count": 28,
   "metadata": {},
   "outputs": [],
   "source": [
    "def complete_user_query_with_spellchecker(query, trie, top_k=5) -> list:\n",
    "    #TODO: suggest top_k options for a user query\n",
    "    # sort results by frequency (!!), \n",
    "    # suggest the QUERIES for first k ranked urls if available\n",
    "    \n",
    "    # using SpellChecker and candidates method\n",
    "    spell = SpellChecker()\n",
    "    \n",
    "    query = skip_stop_word(query)\n",
    "    query_lst=query.split()\n",
    "    correct_query_lst=[]\n",
    "    d={}\n",
    "    for word in query_lst:\n",
    "        if  len(word)==1:\n",
    "            correct_query_lst.append(word)\n",
    "        else:\n",
    "            correct_word=spell.candidates(word)\n",
    "            if len(correct_word)==1:\n",
    "                correct_query_lst.append(correct_word.pop())\n",
    "            else:\n",
    "                #print(correct_word)\n",
    "                for cw in  correct_word:\n",
    "                    result=find_suggestions(trie,cw)\n",
    "                    if len(result)!=0:\n",
    "                        k=result[0][0]\n",
    "                        d[k]=cw\n",
    "                sorted_items = sorted(d.items(),reverse=True)\n",
    "                correct_query_lst.append(sorted_items[0][1])\n",
    "                \n",
    "        \n",
    "    result=find_suggestions(trie,\" \".join([x for x in correct_query_lst]))\n",
    "    \n",
    "    if len(result)==0:\n",
    "        print('No suggest for the query')\n",
    "        return result\n",
    "    \n",
    "    result = sorted(result, key=lambda s:s[0], reverse=True)[:top_k]\n",
    "    res_queries=[]\n",
    "    for r in result:\n",
    "        frequency=r[0]\n",
    "        q=r[2]\n",
    "        if len(r[1])==0:\n",
    "            url = \" \"\n",
    "        else:\n",
    "            urls = sorted(r[1].items(),reverse=True)\n",
    "            url=urls[0][1]\n",
    "        print(f'Count {frequency}:     {q}        {url}')\n",
    "        res_queries.append(q)\n",
    "    print('----------------------------------------------------------')\n",
    "    return res_queries"
   ]
  },
  {
   "cell_type": "code",
   "execution_count": 29,
   "metadata": {
    "scrolled": true
   },
   "outputs": [
    {
     "name": "stdout",
     "output_type": "stream",
     "text": [
      "No suggest for the query\n",
      "----------------------------------------------------------\n",
      "No suggest for the query\n",
      "Count 4:     sherlock holmes        http://en.wikipedia.org\n",
      "Count 2:     sherlock holmes society        http://www.sherlockian.net\n",
      "Count 2:     sherlock holmes chronological order        http://www.geocities.com\n",
      "Count 1:     sherlock holmes address         \n",
      "Count 1:     sherlock holmes audiotapes         \n",
      "----------------------------------------------------------\n",
      "Count 4:     sherlock holmes        http://en.wikipedia.org\n",
      "Count 2:     sherlock holmes society        http://www.sherlockian.net\n",
      "Count 2:     sherlock holmes chronological order        http://www.geocities.com\n",
      "Count 1:     sherlock holmes address         \n",
      "Count 1:     sherlock holmes audiotapes         \n",
      "----------------------------------------------------------\n",
      "Count 6:     carnegie mellon        http://www.cmu.edu\n",
      "Count 1:     carnegie mellon university        http://www.cmu.edu\n",
      "----------------------------------------------------------\n",
      "Count 6:     carnegie mellon        http://www.cmu.edu\n",
      "Count 1:     carnegie mellon university        http://www.cmu.edu\n",
      "----------------------------------------------------------\n",
      "Count 308:     babies r us        http://www.couponcabin.com\n",
      "Count 15:     babies r us.com        http://www.state.nj.us\n",
      "Count 6:     babies r' us        http://www.babiesrus.com\n",
      "Count 5:     babies r us birmingham al registry        http://www.amazon.com\n",
      "Count 4:     babies r us regestry         \n",
      "----------------------------------------------------------\n",
      "Count 308:     babies r us        http://www.couponcabin.com\n",
      "Count 15:     babies r us.com        http://www.state.nj.us\n",
      "Count 6:     babies r' us        http://www.babiesrus.com\n",
      "Count 5:     babies r us birmingham al registry        http://www.amazon.com\n",
      "Count 4:     babies r us regestry         \n",
      "----------------------------------------------------------\n",
      "Count 23:     barbara ann priddy teacher oklahoma city oklahoma         \n",
      "Count 21:     barbara eden        http://www.glencharlow.com\n",
      "Count 14:     barbara a priddy oklahoma city oklahoma        http://www.oklahomahistory.net\n",
      "Count 14:     barbara franzoso        http://www.nh.com\n",
      "Count 13:     barbara ann priddy psychiatric history         \n",
      "----------------------------------------------------------\n",
      "Count 23:     barbara ann priddy teacher oklahoma city oklahoma         \n",
      "Count 21:     barbara eden        http://www.glencharlow.com\n",
      "Count 14:     barbara a priddy oklahoma city oklahoma        http://www.oklahomahistory.net\n",
      "Count 14:     barbara franzoso        http://www.nh.com\n",
      "Count 13:     barbara ann priddy psychiatric history         \n",
      "----------------------------------------------------------\n"
     ]
    }
   ],
   "source": [
    "inp_queries = [\"inormation retrieval\", \"shelrock hol\", \"carnagie mell\", \"babis r\", \"Barrbara \"]\n",
    "inp_queries_corrected = [\"information retrieval\", \"sherlock hol\", \"carnegie mell\", \"babies r\", \"Barbara \"]\n",
    "for q, qc in zip(inp_queries, inp_queries_corrected):\n",
    "    assert  complete_user_query(qc, aol_trie, 5) == \\\n",
    "            complete_user_query_with_spellchecker(q, aol_trie, 5), \"Assert {} and {} give different results\".format(q, qc)"
   ]
  },
  {
   "cell_type": "markdown",
   "metadata": {
    "tags": []
   },
   "source": [
    "## 5. [M][20] What if the query is in the middle?\n",
    "\n",
    "Modify your code to suggest string even if the query is found **in the middle** of the text. Think about techniques you can borrow from our previous classes, e.g. about wildcard search.\n",
    "\n",
    "E.g. `Semantic Parsing` in \n",
    "\n",
    "```\n",
    "3DCNN-DQN-RNN: A Deep Reinforcement Learning Framework for Semantic Parsing of Large-scale 3D Point Clouds\n",
    "                                                           ~~~~~~~~~~~~~~~~\n",
    "```\n",
    "\n",
    "**NB**: Please extend you trie-based approach. Even if using `in` and regexp can give you same result, this is not a scalable approach, which we will not accept.\n",
    "\n",
    "Pass the asserts."
   ]
  },
  {
   "cell_type": "code",
   "execution_count": 30,
   "metadata": {},
   "outputs": [],
   "source": [
    "import itertools\n",
    "import gc\n",
    "gc.collect()\n",
    "aol_data = pd.read_csv('./aol/user-ct-test-collection-01.txt.gz', sep='\\t')\n",
    "\n",
    "newtrie = pygtrie.CharTrie()\n",
    "\n",
    "#TODO: build a trie based on the dataset\n",
    "\n",
    "for index, row in aol_data.iterrows():\n",
    "    queries_lst=[]\n",
    "    query, rank, url=row['Query'], row['ItemRank'], row['ClickURL']\n",
    "    #print(query)\n",
    "    if pd.isna(query):\n",
    "        continue\n",
    "    clean_query=skip_stop_word(query)\n",
    "    clean_query_lst=clean_query.split()\n",
    "    queries_lst=[]\n",
    "    l=len(clean_query_lst)\n",
    "    for  i in range(l):\n",
    "        queries_lst.append(\" \".join(clean_query_lst[i:l+1]))\n",
    "        \n",
    "    \n",
    "    for clean_query in queries_lst:\n",
    "        if pd.isna(query):\n",
    "            continue\n",
    "        if clean_query not in newtrie:\n",
    "            newtrie[clean_query]={}\n",
    "\n",
    "        if query not in newtrie[clean_query]:\n",
    "            newtrie[clean_query][query]=[1,{}]\n",
    "        else:\n",
    "            newtrie[clean_query][query][0]+=1\n",
    "\n",
    "        if not pd.isna(url) and not pd.isna(rank):\n",
    "            newtrie[clean_query][query][1][rank]=url "
   ]
  },
  {
   "cell_type": "code",
   "execution_count": 31,
   "metadata": {},
   "outputs": [],
   "source": [
    "\n",
    "## YOUR CODE HERE\n",
    "\n",
    "def complete_user_query_with_spellchecker_and_middle(query, trie, top_k=5) -> list:\n",
    "    #TODO: suggest top_k options for a user query\n",
    "    # sort results by frequency (!!), \n",
    "    # suggest the QUERIES for first k ranked urls if available\n",
    "    result=complete_user_query_with_spellchecker(query, trie, top_k)\n",
    "    return result\n"
   ]
  },
  {
   "cell_type": "code",
   "execution_count": 32,
   "metadata": {},
   "outputs": [
    {
     "name": "stdout",
     "output_type": "stream",
     "text": [
      "Count 74:     ricky martin beach         \n",
      "----------------------------------------------------------\n",
      "Count 28:     adult movies        http://www.wickedpictures.com\n",
      "Count 12:     previews adult movies        http://porn.iwantanewgirlfriend.com\n",
      "Count 7:     free adult movies        http://www.jucygirls.com\n",
      "Count 5:     virgin rape adult movies        http://www.westtorontojunction.com\n",
      "Count 1:     alt adult movies        http://www.newsgroupservers.net\n",
      "----------------------------------------------------------\n"
     ]
    }
   ],
   "source": [
    "assert \"ricky martin beach\" in complete_user_query_with_spellchecker_and_middle(\n",
    "            \"martin beach\", newtrie, 20)\n",
    "assert \"free adult movies\" in  complete_user_query_with_spellchecker_and_middle(\n",
    "            \"adult movies\", newtrie, 20)\n"
   ]
  },
  {
   "cell_type": "code",
   "execution_count": 33,
   "metadata": {},
   "outputs": [
    {
     "name": "stdout",
     "output_type": "stream",
     "text": [
      "Count 28:     adult movies        http://www.wickedpictures.com\n",
      "Count 12:     previews adult movies        http://porn.iwantanewgirlfriend.com\n",
      "Count 7:     free adult movies        http://www.jucygirls.com\n",
      "Count 5:     virgin rape adult movies        http://www.westtorontojunction.com\n",
      "Count 4:     adult movie download         \n",
      "----------------------------------------------------------\n"
     ]
    }
   ],
   "source": [
    "assert (\"free adult movie\" in  suggests for result in complete_user_query_with_spellchecker_and_middle(\n",
    "            \"adult movie\", newtrie, 20))"
   ]
  },
  {
   "cell_type": "markdown",
   "metadata": {},
   "source": [
    "## 6. [M][20] Enrich your suggest with search results\n",
    "\n",
    "Your users will be happy if at typing the query they will see not only suggested queries, but also snippets of the answers to these queries!\n",
    "\n",
    "Imagine you type \"continental air\", and the search engine suggests you \"continental airlines\" together with the URL and snippet kind of `\"Continental Airlines was a major American airline founded in 1934 and eventually headquartered in Houston, Texas...\"`, which you borrow from the search engine snippet. How can you add existing search enginge to your code? [One](https://yandex.com/dev/xml/doc/dg/task/quickstart.html), [two](https://docs.microsoft.com/en-us/bing/search-apis/bing-web-search/search-the-web), [three](https://searx.roughs.ru/), ...\n",
    "\n",
    "Improve your suggest. It should return a tuple of 3 instead on a string: `(query, text, url)`. Write your own tests which will for the query `continental air` return among the results:\n",
    "1. `query` = `continental airlines`.\n",
    "2. \n",
    "`Continental Airlines was a major American airline founded in 1934` in `text`.\n",
    "3. `url` = `https://en.wikipedia.org/wiki/Continental_Airlines`."
   ]
  },
  {
   "cell_type": "code",
   "execution_count": 34,
   "metadata": {},
   "outputs": [],
   "source": [
    "#the same code of complete_user_query_with_spellchecker but  version2  to  return list queries  and urls\n",
    "#at the end not only the queries\n",
    "def complete_user_query_with_spellchecker_v2(query, trie, top_k=5) -> list:\n",
    "    #TODO: suggest top_k options for a user query\n",
    "    # sort results by frequency (!!), \n",
    "    # suggest the QUERIES for first k ranked urls if available\n",
    "    \n",
    "    # using SpellChecker and candidates method\n",
    "    spell = SpellChecker()\n",
    "    \n",
    "    query = skip_stop_word(query)\n",
    "    query_lst=query.split()\n",
    "    correct_query_lst=[]\n",
    "    d={}\n",
    "    for word in query_lst:\n",
    "        if  len(word)==1:\n",
    "            correct_query_lst.append(word)\n",
    "        else:\n",
    "            correct_word=spell.candidates(word)\n",
    "            if len(correct_word)==1:\n",
    "                correct_query_lst.append(correct_word.pop())\n",
    "            else:\n",
    "                #print(correct_word)\n",
    "                for cw in  correct_word:\n",
    "                    result=find_suggestions(trie,cw)\n",
    "                    if len(result)!=0:\n",
    "                        k=result[0][0]\n",
    "                        d[k]=cw\n",
    "                sorted_items = sorted(d.items(),reverse=True)\n",
    "                correct_query_lst.append(sorted_items[0][1])\n",
    "                \n",
    "        \n",
    "    result=find_suggestions(trie,\" \".join([x for x in correct_query_lst]))\n",
    "    \n",
    "    if len(result)==0:\n",
    "        print('No suggest for the query')\n",
    "        return result\n",
    "    \n",
    "    result = sorted(result, key=lambda s:s[0], reverse=True)[:top_k]\n",
    "    res_queries=[]\n",
    "    for r in result:\n",
    "        frequency=r[0]\n",
    "        q=r[2]\n",
    "        if len(r[1])==0:\n",
    "            url = \" \"\n",
    "        else:\n",
    "            urls = sorted(r[1].items(),reverse=True)\n",
    "            url=urls[0][1]\n",
    "        print(f'Count {frequency}:     {q}        {url}')\n",
    "        res_queries.append([url,q])\n",
    "    print('----------------------------------------------------------')\n",
    "    return res_queries"
   ]
  },
  {
   "cell_type": "code",
   "execution_count": 35,
   "metadata": {},
   "outputs": [],
   "source": [
    "#the same code of complete_user_query_with_spellchecker_and_middle but version2  to  return list queries  and urls\n",
    "#at the end not only the queries\n",
    "def complete_user_query_with_spellchecker_and_middle_v2(query, trie, top_k=5) -> list:\n",
    "    #TODO: suggest top_k options for a user query\n",
    "    # sort results by frequency (!!), \n",
    "    # suggest the QUERIES for first k ranked urls if available\n",
    "    result=complete_user_query_with_spellchecker_v2(query, trie, top_k)\n",
    "    return result"
   ]
  },
  {
   "cell_type": "code",
   "execution_count": 36,
   "metadata": {},
   "outputs": [
    {
     "data": {
      "text/plain": [
       "'\\nimport requests\\nfrom bs4 import BeautifulSoup\\n\\nheaders = {\"Accept-Language\": \"en-US,en;q=1.0\"}\\n\\nparams = {\\'q\\': query}\\n\\nhtml = requests.get(f\\'https://www.google.com/search\\',\\n                    headers=headers,\\n                    params=params).text\\nsoup = BeautifulSoup(html.text, \"html.parser\")\\n\\n'"
      ]
     },
     "execution_count": 36,
     "metadata": {},
     "output_type": "execute_result"
    }
   ],
   "source": [
    "\"\"\"\n",
    "import requests\n",
    "from bs4 import BeautifulSoup\n",
    "\n",
    "headers = {\"Accept-Language\": \"en-US,en;q=1.0\"}\n",
    "\n",
    "params = {'q': query}\n",
    "\n",
    "html = requests.get(f'https://www.google.com/search',\n",
    "                    headers=headers,\n",
    "                    params=params).text\n",
    "soup = BeautifulSoup(html.text, \"html.parser\")\n",
    "\n",
    "\"\"\""
   ]
  },
  {
   "cell_type": "code",
   "execution_count": 37,
   "metadata": {},
   "outputs": [],
   "source": [
    "import requests\n",
    "from bs4 import BeautifulSoup\n",
    "\n",
    "\n",
    "def complete_user_query_with_spellchecker_and_middle_with_snippets(query, trie, top_k=5)-> list:\n",
    "    #TODO\n",
    "    results=[]\n",
    "    result=complete_user_query_with_spellchecker_and_middle_v2(query, trie, top_k=5)\n",
    "    for r in result:\n",
    "        url=r[0]\n",
    "        query=r[1]\n",
    "        if url==' ':\n",
    "            continue\n",
    "        headers = {\"Accept-Language\": \"en-US,en;q=1.0\"}\n",
    "        params = {\n",
    "        'q': query,\n",
    "        'hl': 'en',\n",
    "        }\n",
    "        html = requests.get('https://www.google.com/search', headers=headers, params=params)\n",
    "        soup = BeautifulSoup(html.text, \"html.parser\")\n",
    "        snippet = soup.select_one(\"div:nth-child(1) > div > div:nth-child(1) > div > div > div > div\").text\n",
    "        t=(query,snippet,url)\n",
    "        results.append(t)\n",
    "        if snippet!='':\n",
    "            print(f'Query: {query} \\n Snippet: {snippet} \\n Url= {url}')\n",
    "            print('-----------------------------------------------------------------------')\n",
    "    return results"
   ]
  },
  {
   "cell_type": "code",
   "execution_count": 38,
   "metadata": {
    "scrolled": false
   },
   "outputs": [
    {
     "name": "stdout",
     "output_type": "stream",
     "text": [
      "Count 7:     free adult movies        http://www.jucygirls.com\n",
      "Count 2:     free adult movie trailer        http://www.hadafew.com\n",
      "Count 1:     free adult movies clips         \n",
      "Count 1:     free adult movies online         \n",
      "Count 1:     free adult movie downloads         \n",
      "----------------------------------------------------------\n",
      "Query: free adult movies \n",
      " Snippet: Speech on blockchain Free Adult Movies -2022年4月20日5时0分7秒rbl credit card paymentgccggg.com. \n",
      " Url= http://www.jucygirls.com\n",
      "-----------------------------------------------------------------------\n",
      "Query: free adult movie trailer \n",
      " Snippet: Jun 25, 2019 · 1992movietrailer #trailers #trailer #movietrailer #previewsFind More @ #cappazackTheatrical Trailer - https://youtu.be/BkVsrJUdzocTV Spot ... \n",
      " Url= http://www.hadafew.com\n",
      "-----------------------------------------------------------------------\n"
     ]
    }
   ],
   "source": [
    "results=complete_user_query_with_spellchecker_and_middle_with_snippets(\"free adult movie\", newtrie, 5)\n"
   ]
  },
  {
   "cell_type": "code",
   "execution_count": 39,
   "metadata": {},
   "outputs": [
    {
     "name": "stdout",
     "output_type": "stream",
     "text": [
      "Count 363:     continental airlines        http://www.onepass.com\n",
      "Count 43:     continental airlines.com        http://www.flycontinental.com\n",
      "Count 4:     continental airlines arena seating chart        http://www.seatdata.com\n",
      "Count 4:     http continental airlines.com        http://www.continental.com\n",
      "Count 4:     continental airlinesl         \n",
      "----------------------------------------------------------\n",
      "Query: continental airlines \n",
      " Snippet: Continental Airlines was a major American airline founded in 1934 and eventually headquartered in Houston, Texas. It had ownership interests and brand ... \n",
      " Url= http://www.onepass.com\n",
      "-----------------------------------------------------------------------\n",
      "Query: continental airlines.com \n",
      " Snippet: Find the latest travel deals on flights, hotels and rental cars. Book airline tickets and MileagePlus award tickets to worldwide destinations. \n",
      " Url= http://www.flycontinental.com\n",
      "-----------------------------------------------------------------------\n",
      "Query: continental airlines arena seating chart \n",
      " Snippet: View all \n",
      " Url= http://www.seatdata.com\n",
      "-----------------------------------------------------------------------\n",
      "Query: http continental airlines.com \n",
      " Snippet: Find the latest travel deals on flights, hotels and rental cars. Book airline tickets and MileagePlus award tickets to worldwide destinations. \n",
      " Url= http://www.continental.com\n",
      "-----------------------------------------------------------------------\n"
     ]
    }
   ],
   "source": [
    "results=complete_user_query_with_spellchecker_and_middle_with_snippets(\"continental airlines\", newtrie, 5)\n"
   ]
  },
  {
   "cell_type": "code",
   "execution_count": 40,
   "metadata": {},
   "outputs": [
    {
     "name": "stdout",
     "output_type": "stream",
     "text": [
      "Count 363:     continental airlines        http://www.onepass.com\n",
      "Count 43:     continental airlines.com        http://www.flycontinental.com\n",
      "Count 30:     continental airline        http://www.continental.com\n",
      "Count 4:     continental airlines arena seating chart        http://www.seatdata.com\n",
      "Count 4:     http continental airlines.com        http://www.continental.com\n",
      "----------------------------------------------------------\n",
      "Query: continental airlines \n",
      " Snippet: Continental Airlines was a major American airline founded in 1934 and eventually headquartered in Houston, Texas. It had ownership interests and brand ... \n",
      " Url= http://www.onepass.com\n",
      "-----------------------------------------------------------------------\n",
      "Query: continental airlines.com \n",
      " Snippet: Find the latest travel deals on flights, hotels and rental cars. Book airline tickets and MileagePlus award tickets to worldwide destinations. \n",
      " Url= http://www.flycontinental.com\n",
      "-----------------------------------------------------------------------\n",
      "Query: continental airline \n",
      " Snippet: Continental Airlines was a major American airline founded in 1934 and eventually headquartered in Houston, Texas. It had ownership interests and brand ... \n",
      " Url= http://www.continental.com\n",
      "-----------------------------------------------------------------------\n",
      "Query: continental airlines arena seating chart \n",
      " Snippet: View all \n",
      " Url= http://www.seatdata.com\n",
      "-----------------------------------------------------------------------\n",
      "Query: http continental airlines.com \n",
      " Snippet: Find the latest travel deals on flights, hotels and rental cars. Book airline tickets and MileagePlus award tickets to worldwide destinations. \n",
      " Url= http://www.continental.com\n",
      "-----------------------------------------------------------------------\n"
     ]
    }
   ],
   "source": [
    "results=complete_user_query_with_spellchecker_and_middle_with_snippets(\"continental airlin\", newtrie, 5)\n"
   ]
  },
  {
   "cell_type": "code",
   "execution_count": 41,
   "metadata": {},
   "outputs": [
    {
     "name": "stdout",
     "output_type": "stream",
     "text": [
      "Count 28:     adult movies        http://www.wickedpictures.com\n",
      "Count 12:     previews adult movies        http://porn.iwantanewgirlfriend.com\n",
      "Count 7:     free adult movies        http://www.jucygirls.com\n",
      "Count 5:     virgin rape adult movies        http://www.westtorontojunction.com\n",
      "Count 4:     adult movie download         \n",
      "----------------------------------------------------------\n",
      "Query: adult movies \n",
      " Snippet: Now take a load off for erotic movies ranked worst to best by Tomatometer! #200 ... script for a nuanced, mature film about neurosis and human sexuality. \n",
      " Url= http://www.wickedpictures.com\n",
      "-----------------------------------------------------------------------\n",
      "Query: previews adult movies \n",
      " Snippet: Featuring: Laura Gemser: legendary star of the Black Emanuelle series; Christina Lindberg: legendary star of Thriller and Sex & Fury; Brigitte Lahaie: legendary ... \n",
      " Url= http://porn.iwantanewgirlfriend.com\n",
      "-----------------------------------------------------------------------\n",
      "Query: free adult movies \n",
      " Snippet: Speech on blockchain Free Adult Movies -2022年4月20日5时0分7秒rbl credit card paymentgccggg.com. \n",
      " Url= http://www.jucygirls.com\n",
      "-----------------------------------------------------------------------\n",
      "Query: virgin rape adult movies \n",
      " Snippet: Your search - virgin rape adult movies - did not match any documents.\n",
      "\n",
      "Suggestions:\n",
      "Make sure all words are spelled correctly.\n",
      "Try different keywords.\n",
      "Try more general keywords. \n",
      " Url= http://www.westtorontojunction.com\n",
      "-----------------------------------------------------------------------\n"
     ]
    }
   ],
   "source": [
    "# YOUR TESTS HERE\n",
    "assert (\"free adult movie\" in  suggests for result in complete_user_query_with_spellchecker_and_middle_with_snippets(\n",
    "            \"adult movie\", newtrie, 20))\n"
   ]
  },
  {
   "cell_type": "code",
   "execution_count": null,
   "metadata": {},
   "outputs": [],
   "source": []
  }
 ],
 "metadata": {
  "kernelspec": {
   "display_name": "Python 3",
   "language": "python",
   "name": "python3"
  },
  "language_info": {
   "codemirror_mode": {
    "name": "ipython",
    "version": 3
   },
   "file_extension": ".py",
   "mimetype": "text/x-python",
   "name": "python",
   "nbconvert_exporter": "python",
   "pygments_lexer": "ipython3",
   "version": "3.8.8"
  }
 },
 "nbformat": 4,
 "nbformat_minor": 4
}
